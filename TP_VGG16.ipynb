{
 "cells": [
  {
   "cell_type": "code",
   "execution_count": 1,
   "metadata": {},
   "outputs": [],
   "source": [
    "# création du model\n",
    "from keras.models import Sequential\n",
    "\n",
    "VGG16 = Sequential()  # réseau de neurones vides"
   ]
  },
  {
   "cell_type": "code",
   "execution_count": 2,
   "metadata": {},
   "outputs": [],
   "source": [
    "from keras.layers import Conv2D, MaxPooling2D\n",
    "\n",
    "# 1ere couche de convolution\n",
    "VGG16.add(Conv2D(64,(3,3), input_shape=(224,224,3),\n",
    "                padding=\"same\", activation='relu'))\n",
    "# 2e couche de convolution\n",
    "VGG16.add(Conv2D(64,(3,3), padding='same', \n",
    "          activation='relu'))\n",
    "\n",
    "# 1ere couche de pooling\n",
    "VGG16.add(MaxPooling2D(pool_size=(2,2),\n",
    "                      strides=(2,2)))"
   ]
  },
  {
   "cell_type": "code",
   "execution_count": 3,
   "metadata": {},
   "outputs": [],
   "source": [
    "# Couches de pooling\n",
    "from keras.layers import Flatten, Dense\n",
    "\n",
    "# conversion des matrices 3D en vecteur 1D\n",
    "VGG16.add(Flatten())"
   ]
  },
  {
   "cell_type": "code",
   "execution_count": 4,
   "metadata": {},
   "outputs": [],
   "source": [
    "# 1ere couche de fully-connected\n",
    "VGG16.add(Dense(4096, activation='relu'))"
   ]
  },
  {
   "cell_type": "code",
   "execution_count": 5,
   "metadata": {},
   "outputs": [],
   "source": [
    "# Derniere couche de fully-connected\n",
    "VGG16.add(Dense(1000, activation = 'softmax'))"
   ]
  },
  {
   "cell_type": "code",
   "execution_count": 6,
   "metadata": {},
   "outputs": [],
   "source": [
    "# Appel du modèle VGG16 de keras pré-entrainé sur ImagetNet\n",
    "\n",
    "from keras.applications.vgg16 import VGG16\n",
    "\n",
    "model = VGG16()"
   ]
  },
  {
   "cell_type": "code",
   "execution_count": 7,
   "metadata": {},
   "outputs": [],
   "source": [
    "# Nous allons utiliser ce réseau pour classer une image\n",
    "# dans une des 1000 catégories de ImageNet.\n",
    "# D'abord on charge l'image cat.jpg puis on le prétraite \n",
    "# pour qu'elle respecte les caractéristques des images en entrée\n",
    "# de VGG16\n",
    "\n",
    "from keras.preprocessing.image import load_img, img_to_array\n",
    "from keras.applications.vgg16 import preprocess_input\n",
    "\n",
    "img = load_img('cat.jpg', target_size=(224,224)) # chargement\n",
    "img = img_to_array(img)  # conversion tableau\n",
    "img = img.reshape((1, img.shape[0], img.shape[1], \n",
    "                  img.shape[2]))\n",
    "\n",
    "# prétraiter suivant les caractéristiques de VGG16\n",
    "img = preprocess_input(img)"
   ]
  },
  {
   "cell_type": "code",
   "execution_count": 8,
   "metadata": {},
   "outputs": [
    {
     "name": "stderr",
     "output_type": "stream",
     "text": [
      "<frozen importlib._bootstrap>:219: RuntimeWarning: numpy.ufunc size changed, may indicate binary incompatibility. Expected 192 from C header, got 216 from PyObject\n"
     ]
    }
   ],
   "source": [
    "pred = model.predict(img)"
   ]
  },
  {
   "cell_type": "code",
   "execution_count": 9,
   "metadata": {},
   "outputs": [
    {
     "name": "stdout",
     "output_type": "stream",
     "text": [
      "Top 5 : [[('n02119789', 'kit_fox', 0.3743217), ('n02119022', 'red_fox', 0.36262238), ('n02124075', 'Egyptian_cat', 0.08030553), ('n02123159', 'tiger_cat', 0.054384407), ('n02123045', 'tabby', 0.029743355)]]\n"
     ]
    }
   ],
   "source": [
    "# TOP 5 des 1000 probabilés d'appartenance au 1000 catégories\n",
    "# d'imageNet\n",
    "\n",
    "from keras.applications.vgg16 import decode_predictions\n",
    "print(\"Top 5 :\", decode_predictions(pred, top=5))"
   ]
  },
  {
   "cell_type": "code",
   "execution_count": 10,
   "metadata": {},
   "outputs": [],
   "source": [
    "# Si toutefois nous sommes confrontés à un nouveau probleme\n",
    "# de classification où la nouvelle image n'a pas etait entrainée\n",
    "# parmi les 1000 catégories d'imageNet, on fait du \n",
    "# TRANSFER LERANING. Donc dans ce cas, on doit remplacer les dernieres\n",
    "# couches fully-connected qui permmettent de classifier l'image\n",
    "# dans une des 1000 catégories d'imageNet par un classifieur\n",
    "# plus adpaté à notre probleme.\n",
    "\n",
    "from keras.applications.vgg16 import VGG16\n",
    "from keras.layers import Dense\n",
    "from keras import Model\n",
    "\n",
    "# chargement de VGG16 pré-entrainé sur ImageNet sans les couches \n",
    "# couches fully-connected\n",
    "model = VGG16(weights='imagenet', include_top = False,\n",
    "             input_shape=(224,224,3))"
   ]
  },
  {
   "cell_type": "code",
   "execution_count": 11,
   "metadata": {},
   "outputs": [],
   "source": [
    "# Ajout de la couche de fully-connected pour 10 classes\n",
    "predictions = Dense(10, activation='softmax')(model.output)"
   ]
  },
  {
   "cell_type": "code",
   "execution_count": 13,
   "metadata": {},
   "outputs": [],
   "source": [
    "# Définir le nouveau modèle\n",
    "n_model = Model(inputs=model.input, outputs=predictions)"
   ]
  },
  {
   "cell_type": "code",
   "execution_count": 14,
   "metadata": {},
   "outputs": [
    {
     "data": {
      "text/plain": [
       "<keras.engine.functional.Functional at 0x230545a71f0>"
      ]
     },
     "execution_count": 14,
     "metadata": {},
     "output_type": "execute_result"
    }
   ],
   "source": [
    "n_model"
   ]
  },
  {
   "cell_type": "code",
   "execution_count": 22,
   "metadata": {},
   "outputs": [
    {
     "ename": "TypeError",
     "evalue": "'module' object is not callable",
     "output_type": "error",
     "traceback": [
      "\u001b[1;31m---------------------------------------------------------------------------\u001b[0m",
      "\u001b[1;31mTypeError\u001b[0m                                 Traceback (most recent call last)",
      "\u001b[1;32m<ipython-input-22-88d80b8e7e2b>\u001b[0m in \u001b[0;36m<module>\u001b[1;34m\u001b[0m\n\u001b[0;32m      2\u001b[0m \u001b[1;32mfrom\u001b[0m \u001b[0mkeras\u001b[0m \u001b[1;32mimport\u001b[0m \u001b[0moptimizers\u001b[0m\u001b[1;33m\u001b[0m\u001b[1;33m\u001b[0m\u001b[0m\n\u001b[0;32m      3\u001b[0m n_model.compile(loss='categorical_crossentropy',\n\u001b[1;32m----> 4\u001b[1;33m                optimizer=optimizers(lr=0.0001,momentum=0.9,\n\u001b[0m\u001b[0;32m      5\u001b[0m                                       metrics=['accuracy']))\n",
      "\u001b[1;31mTypeError\u001b[0m: 'module' object is not callable"
     ]
    }
   ],
   "source": [
    "# compilation\n",
    "from keras import optimizers\n",
    "n_model.compile(loss='categorical_crossentropy',\n",
    "               optimizer=optimizers(lr=0.0001,momentum=0.9,\n",
    "                                      metrics=['accuracy']))"
   ]
  },
  {
   "cell_type": "code",
   "execution_count": 23,
   "metadata": {},
   "outputs": [
    {
     "ename": "NameError",
     "evalue": "name 'xtrain' is not defined",
     "output_type": "error",
     "traceback": [
      "\u001b[1;31m---------------------------------------------------------------------------\u001b[0m",
      "\u001b[1;31mNameError\u001b[0m                                 Traceback (most recent call last)",
      "\u001b[1;32m<ipython-input-23-e5190d8fa960>\u001b[0m in \u001b[0;36m<module>\u001b[1;34m\u001b[0m\n\u001b[0;32m      1\u001b[0m \u001b[1;31m# Entraitement\u001b[0m\u001b[1;33m\u001b[0m\u001b[1;33m\u001b[0m\u001b[1;33m\u001b[0m\u001b[0m\n\u001b[1;32m----> 2\u001b[1;33m model_train = n_model(xtrain, ytrain, \n\u001b[0m\u001b[0;32m      3\u001b[0m                      \u001b[0mepochs\u001b[0m\u001b[1;33m=\u001b[0m\u001b[1;36m100\u001b[0m\u001b[1;33m,\u001b[0m\u001b[1;33m\u001b[0m\u001b[1;33m\u001b[0m\u001b[0m\n\u001b[0;32m      4\u001b[0m                      \u001b[0mbatch_size\u001b[0m\u001b[1;33m=\u001b[0m\u001b[1;36m10\u001b[0m\u001b[1;33m\u001b[0m\u001b[1;33m\u001b[0m\u001b[0m\n\u001b[0;32m      5\u001b[0m                      )\n",
      "\u001b[1;31mNameError\u001b[0m: name 'xtrain' is not defined"
     ]
    }
   ],
   "source": [
    "# Entraitement\n",
    "model_train = n_model(xtrain, ytrain, \n",
    "                     epochs=100, \n",
    "                     batch_size=10\n",
    "                     )"
   ]
  },
  {
   "cell_type": "code",
   "execution_count": null,
   "metadata": {},
   "outputs": [],
   "source": [
    "# Avec la stratégie 1 : fine-tuning total, on entraine \n",
    "# toutes les couches\n",
    "for layer in model.layers:\n",
    "    layer.trainable = True"
   ]
  },
  {
   "cell_type": "code",
   "execution_count": null,
   "metadata": {},
   "outputs": [],
   "source": [
    "# Avec la stratégie 2 : extraxctions de features, on entraine \n",
    "# le nouveau classifieur et non les autres couches\n",
    "for layer in model.layers:\n",
    "    layer.trainable = False"
   ]
  },
  {
   "cell_type": "code",
   "execution_count": null,
   "metadata": {},
   "outputs": [],
   "source": [
    "# Avec la stratégie 3 : fine-tuning partiel, on entraine \n",
    "# le nouveau classifieur et les couches hautes et non les \n",
    "# couches basses\n",
    "for layer in model.layers[:5]:\n",
    "    layer.trainable = False"
   ]
  },
  {
   "cell_type": "code",
   "execution_count": null,
   "metadata": {},
   "outputs": [],
   "source": []
  }
 ],
 "metadata": {
  "kernelspec": {
   "display_name": "Python 3",
   "language": "python",
   "name": "python3"
  },
  "language_info": {
   "codemirror_mode": {
    "name": "ipython",
    "version": 3
   },
   "file_extension": ".py",
   "mimetype": "text/x-python",
   "name": "python",
   "nbconvert_exporter": "python",
   "pygments_lexer": "ipython3",
   "version": "3.8.3"
  }
 },
 "nbformat": 4,
 "nbformat_minor": 4
}
