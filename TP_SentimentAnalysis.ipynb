{
 "cells": [
  {
   "cell_type": "code",
   "execution_count": 5,
   "metadata": {},
   "outputs": [
    {
     "name": "stdout",
     "output_type": "stream",
     "text": [
      "   PhraseId  ...  Sentiment\n",
      "0         1  ...          1\n",
      "1         2  ...          2\n",
      "2         3  ...          2\n",
      "3         4  ...          2\n",
      "4         5  ...          2\n",
      "\n",
      "[5 rows x 4 columns]\n",
      "   PhraseId  SentenceId                                             Phrase\n",
      "0    156061        8545  An intermittently pleasing but mostly routine ...\n",
      "1    156062        8545  An intermittently pleasing but mostly routine ...\n",
      "2    156063        8545                                                 An\n",
      "3    156064        8545  intermittently pleasing but mostly routine effort\n",
      "4    156065        8545         intermittently pleasing but mostly routine\n"
     ]
    }
   ],
   "source": [
    "# Importation du fichier de données\n",
    "import pandas as pd\n",
    "train = pd.read_csv(\"train_SentimentAnalysis.tsv\", sep = '\\t')\n",
    "print(train.head())\n",
    "test = pd.read_csv(\"test_SentimentAnalysis.tsv\", sep = '\\t')\n",
    "print(test.head())"
   ]
  },
  {
   "cell_type": "code",
   "execution_count": 6,
   "metadata": {},
   "outputs": [
    {
     "name": "stdout",
     "output_type": "stream",
     "text": [
      "2    79582\n",
      "3    32927\n",
      "1    27273\n",
      "4     9206\n",
      "0     7072\n",
      "Name: Sentiment, dtype: int64\n"
     ]
    }
   ],
   "source": [
    "# Description des sentiments\n",
    "count_sentiment = train.Sentiment.value_counts()\n",
    "print(count_sentiment)"
   ]
  },
  {
   "cell_type": "code",
   "execution_count": 11,
   "metadata": {},
   "outputs": [
    {
     "data": {
      "image/png": "[encoded data removed]",
      "text/plain": [
       "<Figure size 432x288 with 1 Axes>"
      ]
     },
     "metadata": {
      "needs_background": "light"
     },
     "output_type": "display_data"
    }
   ],
   "source": [
    "# PLotting of sentiments\n",
    "import matplotlib.pyplot as plt\n",
    "plt.bar(count_sentiment.index.values, count_sentiment)\n",
    "plt.xlabel(\"Sentiments\")\n",
    "plt.ylabel(\"Frequence\")\n",
    "plt.show()"
   ]
  },
  {
   "cell_type": "code",
   "execution_count": 13,
   "metadata": {},
   "outputs": [],
   "source": [
    "# Gébération de features : Bag of Words (représenter chaque sentiment\n",
    "# sous forme de sac brute)\n",
    "# en probleme de classification textuel, on a un ensemble de text avec leur\n",
    "# label respectif. Cependant, on ne peut pas directement utiliser le texte\n",
    "# pour la modélisation. Nous devons converir le texte en des vecteurs de \n",
    "# nombres. La méthode BoW est simple pour l'extraction des features \n",
    "# dans un texte : elle convertit le texte en une matrice d'occurence de mots\n",
    "# et les mets sous forme de document.\n",
    "\n",
    "from sklearn.feature_extraction.text import CountVectorizer\n",
    "from nltk.tokenize import RegexpTokenizer\n",
    "\n",
    "# suppression des éléments non désirés\n",
    "token = RegexpTokenizer(r'[a-zA-Z0-9]+')\n",
    "cv = CountVectorizer(lowercase=True, \n",
    "                    stop_words='english',\n",
    "                    ngram_range=(1,1),\n",
    "                    tokenizer=token.tokenize)\n",
    "text_count = cv.fit_transform(train['Phrase'])"
   ]
  },
  {
   "cell_type": "code",
   "execution_count": 14,
   "metadata": {},
   "outputs": [],
   "source": [
    "# Training et testing set\n",
    "from sklearn.model_selection import train_test_split\n",
    "xtrain, xtest, ytrain, ytest = train_test_split(text_count,\n",
    "                                               train['Sentiment'],\n",
    "                                               test_size = 0.3)"
   ]
  },
  {
   "cell_type": "code",
   "execution_count": 15,
   "metadata": {},
   "outputs": [],
   "source": [
    "# Modeling\n",
    "from sklearn.naive_bayes import MultinomialNB\n",
    "from sklearn import metrics\n",
    "\n",
    "clf = MultinomialNB().fit(xtrain, ytrain)\n",
    "pred = clf.predict(xtest)"
   ]
  },
  {
   "cell_type": "code",
   "execution_count": 16,
   "metadata": {},
   "outputs": [
    {
     "name": "stdout",
     "output_type": "stream",
     "text": [
      "0.6085052757486437\n"
     ]
    }
   ],
   "source": [
    "# Accuracy \n",
    "acc = metrics.accuracy_score(ytest,pred)\n",
    "print(acc)"
   ]
  }
 ],
 "metadata": {
  "kernelspec": {
   "display_name": "Python 3",
   "language": "python",
   "name": "python3"
  },
  "language_info": {
   "codemirror_mode": {
    "name": "ipython",
    "version": 3
   },
   "file_extension": ".py",
   "mimetype": "text/x-python",
   "name": "python",
   "nbconvert_exporter": "python",
   "pygments_lexer": "ipython3",
   "version": "3.8.3"
  }
 },
 "nbformat": 4,
 "nbformat_minor": 4
}
