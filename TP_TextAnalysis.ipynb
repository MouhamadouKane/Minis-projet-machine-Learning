{
 "cells": [
  {
   "cell_type": "code",
   "execution_count": 1,
   "metadata": {},
   "outputs": [
    {
     "name": "stderr",
     "output_type": "stream",
     "text": [
      "[nltk_data] Downloading package punkt to\n",
      "[nltk_data]     C:\\Users\\DIALLO\\AppData\\Roaming\\nltk_data...\n",
      "[nltk_data]   Package punkt is already up-to-date!\n"
     ]
    },
    {
     "data": {
      "text/plain": [
       "True"
      ]
     },
     "execution_count": 1,
     "metadata": {},
     "output_type": "execute_result"
    }
   ],
   "source": [
    "# Importation de nltk (Natural Language Toolkit)\n",
    "import nltk\n",
    "nltk.download('punkt')"
   ]
  },
  {
   "cell_type": "code",
   "execution_count": 2,
   "metadata": {},
   "outputs": [],
   "source": [
    "## Corpus du texte \n",
    "text = \"\"\"Artificial intelligence (AI), is intelligence demonstrated by machines, \n",
    "          unlike the natural intelligence displayed by humans and animals. \n",
    "          Leading AI textbooks define the field as the study of intelligent agents: \n",
    "          any device that perceives its environment and takes actions that maximize \n",
    "          its chance of successfully achieving its goals. \n",
    "          Colloquially, the term artificial intelligence is often used \n",
    "          to describe machines (or computers) that mimic cognitive functions \n",
    "          that humans associate with the human mind, such as learning and \n",
    "          problem solving\"\"\""
   ]
  },
  {
   "cell_type": "code",
   "execution_count": 5,
   "metadata": {},
   "outputs": [
    {
     "name": "stdout",
     "output_type": "stream",
     "text": [
      "['Artificial intelligence (AI), is intelligence demonstrated by machines, \\n          unlike the natural intelligence displayed by humans and animals.', 'Leading AI textbooks define the field as the study of intelligent agents: \\n          any device that perceives its environment and takes actions that maximize \\n          its chance of successfully achieving its goals.', 'Colloquially, the term artificial intelligence is often used \\n          to describe machines (or computers) that mimic cognitive functions \\n          that humans associate with the human mind, such as learning and \\n          problem solving']\n"
     ]
    }
   ],
   "source": [
    "# Sentence tokenization\n",
    "from nltk.tokenize import sent_tokenize\n",
    "token = sent_tokenize(text)\n",
    "print(token)"
   ]
  },
  {
   "cell_type": "code",
   "execution_count": 6,
   "metadata": {},
   "outputs": [
    {
     "name": "stdout",
     "output_type": "stream",
     "text": [
      "['Artificial', 'intelligence', '(', 'AI', ')', ',', 'is', 'intelligence', 'demonstrated', 'by', 'machines', ',', 'unlike', 'the', 'natural', 'intelligence', 'displayed', 'by', 'humans', 'and', 'animals', '.', 'Leading', 'AI', 'textbooks', 'define', 'the', 'field', 'as', 'the', 'study', 'of', 'intelligent', 'agents', ':', 'any', 'device', 'that', 'perceives', 'its', 'environment', 'and', 'takes', 'actions', 'that', 'maximize', 'its', 'chance', 'of', 'successfully', 'achieving', 'its', 'goals', '.', 'Colloquially', ',', 'the', 'term', 'artificial', 'intelligence', 'is', 'often', 'used', 'to', 'describe', 'machines', '(', 'or', 'computers', ')', 'that', 'mimic', 'cognitive', 'functions', 'that', 'humans', 'associate', 'with', 'the', 'human', 'mind', ',', 'such', 'as', 'learning', 'and', 'problem', 'solving']\n"
     ]
    }
   ],
   "source": [
    "# Découpage du texte en mots\n",
    "from nltk.tokenize import word_tokenize\n",
    "word_token = word_tokenize(text)\n",
    "print(word_token)"
   ]
  },
  {
   "cell_type": "code",
   "execution_count": 7,
   "metadata": {},
   "outputs": [
    {
     "name": "stdout",
     "output_type": "stream",
     "text": [
      "<FreqDist with 61 samples and 88 outcomes>\n"
     ]
    }
   ],
   "source": [
    "# Frequence \n",
    "from nltk.probability import FreqDist\n",
    "freq_word = FreqDist(word_token)\n",
    "print(freq_word)"
   ]
  },
  {
   "cell_type": "code",
   "execution_count": 9,
   "metadata": {},
   "outputs": [
    {
     "data": {
      "image/png": "[encoded data removed]",
      "text/plain": [
       "<Figure size 432x288 with 1 Axes>"
      ]
     },
     "metadata": {
      "needs_background": "light"
     },
     "output_type": "display_data"
    }
   ],
   "source": [
    "freq_word.most_common()\n",
    "# plotting word frequence\n",
    "import matplotlib.pyplot as plt\n",
    "freq_word.plot(88, cumulative = False)\n",
    "plt.show()"
   ]
  },
  {
   "cell_type": "code",
   "execution_count": 12,
   "metadata": {},
   "outputs": [
    {
     "name": "stdout",
     "output_type": "stream",
     "text": [
      "{'where', \"shouldn't\", 'if', 'its', 'not', 'has', 'it', 'doing', 'am', 'too', \"weren't\", 'does', 'have', 'couldn', \"you've\", 'into', 'those', \"you'll\", 'a', 'is', 'but', 'before', 'again', 'shan', 'which', 'through', 'that', \"didn't\", 'between', 'yourselves', 'when', 'during', 'how', 'few', 's', 'being', 'as', \"she's\", 'wouldn', 'won', 'his', 'and', 'then', 'very', 'itself', 'they', 'needn', 'did', \"shan't\", 'should', 'such', 'our', 'with', 'will', \"mightn't\", 'are', 'there', 'your', 'same', 'had', 'mustn', 'so', \"should've\", 'y', 'own', 'no', 'out', 'against', 'theirs', 'by', 'ma', 'them', 'under', 'we', 'can', \"haven't\", 'you', 'was', 'up', \"hasn't\", 'were', 'below', 'why', 'just', 'he', 'in', 'hadn', 'hasn', 'herself', 'o', 'him', 'down', 'from', 'most', 'other', 'don', 'wasn', 'aren', \"won't\", \"wouldn't\", 'an', 'to', 'having', 'once', 'ourselves', 'this', 'my', 'their', 'the', 'isn', \"don't\", \"it's\", 'himself', \"needn't\", \"couldn't\", 'me', 'her', 'here', 'who', 'after', 'all', 'be', 'myself', 'hers', 'ain', 'whom', 'or', 'been', 'over', 'now', \"that'll\", \"wasn't\", 'each', 'only', 'do', 'these', \"you'd\", 'of', 'didn', \"aren't\", 'some', 'than', 'off', 'haven', 'for', 've', \"you're\", 'mightn', \"doesn't\", 're', 'until', 'while', \"isn't\", \"hadn't\", 'i', 'further', 'weren', 'doesn', 'm', 'd', 'both', 't', 'll', 'she', 'yours', 'on', 'at', 'what', 'because', 'shouldn', 'yourself', 'any', 'ours', 'more', 'above', 'nor', \"mustn't\", 'themselves', 'about'}\n"
     ]
    },
    {
     "name": "stderr",
     "output_type": "stream",
     "text": [
      "[nltk_data] Downloading package stopwords to\n",
      "[nltk_data]     C:\\Users\\DIALLO\\AppData\\Roaming\\nltk_data...\n",
      "[nltk_data]   Package stopwords is already up-to-date!\n"
     ]
    }
   ],
   "source": [
    "# Stop of words : identification du bruit dans le\n",
    "# texte qui sont des mots d'arrêts tels is, am, this, a\n",
    "# an, the...\n",
    "# Pour les supprimer dans NLTK, il faut créer une liste \n",
    "# de stopwords puis effectuer un fltre sur cette liste\n",
    "\n",
    "nltk.download('stopwords')\n",
    "from nltk.corpus import stopwords\n",
    "stop_words = set(stopwords.words(\"english\")) # collection d'elts unique\n",
    "print(stop_words)"
   ]
  },
  {
   "cell_type": "code",
   "execution_count": 13,
   "metadata": {},
   "outputs": [
    {
     "name": "stdout",
     "output_type": "stream",
     "text": [
      "Tokenized text :  ['Artificial', 'intelligence', '(', 'AI', ')', ',', 'is', 'intelligence', 'demonstrated', 'by', 'machines', ',', 'unlike', 'the', 'natural', 'intelligence', 'displayed', 'by', 'humans', 'and', 'animals', '.', 'Leading', 'AI', 'textbooks', 'define', 'the', 'field', 'as', 'the', 'study', 'of', 'intelligent', 'agents', ':', 'any', 'device', 'that', 'perceives', 'its', 'environment', 'and', 'takes', 'actions', 'that', 'maximize', 'its', 'chance', 'of', 'successfully', 'achieving', 'its', 'goals', '.', 'Colloquially', ',', 'the', 'term', 'artificial', 'intelligence', 'is', 'often', 'used', 'to', 'describe', 'machines', '(', 'or', 'computers', ')', 'that', 'mimic', 'cognitive', 'functions', 'that', 'humans', 'associate', 'with', 'the', 'human', 'mind', ',', 'such', 'as', 'learning', 'and', 'problem', 'solving']\n",
      "Filtered text :  ['Artificial', 'intelligence', '(', 'AI', ')', ',', 'intelligence', 'demonstrated', 'machines', ',', 'unlike', 'natural', 'intelligence', 'displayed', 'humans', 'animals', '.', 'Leading', 'AI', 'textbooks', 'define', 'field', 'study', 'intelligent', 'agents', ':', 'device', 'perceives', 'environment', 'takes', 'actions', 'maximize', 'chance', 'successfully', 'achieving', 'goals', '.', 'Colloquially', ',', 'term', 'artificial', 'intelligence', 'often', 'used', 'describe', 'machines', '(', 'computers', ')', 'mimic', 'cognitive', 'functions', 'humans', 'associate', 'human', 'mind', ',', 'learning', 'problem', 'solving']\n"
     ]
    }
   ],
   "source": [
    "# Suppression des stopwprds dans notre text\n",
    "filtre_text = []\n",
    "for w in word_token :\n",
    "    if w not in stop_words:\n",
    "        filtre_text.append(w)\n",
    "print(\"Tokenized text : \",word_token)\n",
    "print(\"Filtered text : \",filtre_text)"
   ]
  },
  {
   "cell_type": "code",
   "execution_count": 16,
   "metadata": {},
   "outputs": [
    {
     "name": "stdout",
     "output_type": "stream",
     "text": [
      "<FreqDist with 48 samples and 60 outcomes>\n"
     ]
    },
    {
     "data": {
      "image/png": "[encoded data removed]",
      "text/plain": [
       "<Figure size 432x288 with 1 Axes>"
      ]
     },
     "metadata": {
      "needs_background": "light"
     },
     "output_type": "display_data"
    }
   ],
   "source": [
    "# Plotting du text filtré\n",
    "freq_word_filtr = FreqDist(filtre_text)\n",
    "print(freq_word_filtr)\n",
    "freq_word_filtr.plot(48, cumulative = False)\n",
    "plt.show()"
   ]
  },
  {
   "cell_type": "code",
   "execution_count": 17,
   "metadata": {},
   "outputs": [
    {
     "name": "stdout",
     "output_type": "stream",
     "text": [
      "Texte filtré :  ['Artificial', 'intelligence', '(', 'AI', ')', ',', 'intelligence', 'demonstrated', 'machines', ',', 'unlike', 'natural', 'intelligence', 'displayed', 'humans', 'animals', '.', 'Leading', 'AI', 'textbooks', 'define', 'field', 'study', 'intelligent', 'agents', ':', 'device', 'perceives', 'environment', 'takes', 'actions', 'maximize', 'chance', 'successfully', 'achieving', 'goals', '.', 'Colloquially', ',', 'term', 'artificial', 'intelligence', 'often', 'used', 'describe', 'machines', '(', 'computers', ')', 'mimic', 'cognitive', 'functions', 'humans', 'associate', 'human', 'mind', ',', 'learning', 'problem', 'solving']\n",
      "Texte sous forme cananique :  ['artifici', 'intellig', '(', 'AI', ')', ',', 'intellig', 'demonstr', 'machin', ',', 'unlik', 'natur', 'intellig', 'display', 'human', 'anim', '.', 'lead', 'AI', 'textbook', 'defin', 'field', 'studi', 'intellig', 'agent', ':', 'devic', 'perceiv', 'environ', 'take', 'action', 'maxim', 'chanc', 'success', 'achiev', 'goal', '.', 'colloqui', ',', 'term', 'artifici', 'intellig', 'often', 'use', 'describ', 'machin', '(', 'comput', ')', 'mimic', 'cognit', 'function', 'human', 'associ', 'human', 'mind', ',', 'learn', 'problem', 'solv']\n"
     ]
    }
   ],
   "source": [
    "# Normalisation du lexique\n",
    "# 1) Steamming : extraction de la racine des mots (suppr affixes, suffixes)\n",
    "# sans tenir en compte les synonymes des mots\n",
    "\n",
    "from nltk.stem import PorterStemmer\n",
    "\n",
    "stem_words = []\n",
    "for w in filtre_text:\n",
    "    stem_words.append(PorterStemmer().stem(w))\n",
    "print(\"Texte filtré : \",filtre_text)\n",
    "print(\"Texte sous forme cananique : \", stem_words)"
   ]
  },
  {
   "cell_type": "code",
   "execution_count": 25,
   "metadata": {},
   "outputs": [
    {
     "name": "stdout",
     "output_type": "stream",
     "text": [
      "Lemmatized text :  Artificial intelligence (AI), is intelligence demonstrated by machines, \n",
      "          unlike the natural intelligence displayed by humans and animals. \n",
      "          Leading AI textbooks define the field as the study of intelligent agents: \n",
      "          any device that perceives its environment and takes actions that maximize \n",
      "          its chance of successfully achieving its goals. \n",
      "          Colloquially, the term artificial intelligence is often used \n",
      "          to describe machines (or computers) that mimic cognitive functions \n",
      "          that humans associate with the human mind, such as learning and \n",
      "          problem solving\n",
      "Steamming word  fli\n"
     ]
    },
    {
     "name": "stderr",
     "output_type": "stream",
     "text": [
      "[nltk_data] Downloading package wordnet to\n",
      "[nltk_data]     C:\\Users\\DIALLO\\AppData\\Roaming\\nltk_data...\n",
      "[nltk_data]   Package wordnet is already up-to-date!\n"
     ]
    }
   ],
   "source": [
    "# # 1) Lemmatization : extraction de la racine des mots (suppr affixes, suffixes)\n",
    "# en tenant compte les synonymes des mots\n",
    "\n",
    "nltk.download('wordnet')\n",
    "from nltk.stem import WordNetLemmatizer\n",
    "\n",
    "lem = WordNetLemmatizer()\n",
    "stem = PorterStemmer()\n",
    "\n",
    "word = \"flying\"\n",
    "\n",
    "print(\"Lemmatized text : \", lem.lemmatize(text))\n",
    "# print(\"Steamming word \", stem.stem(word))"
   ]
  },
  {
   "cell_type": "code",
   "execution_count": null,
   "metadata": {},
   "outputs": [],
   "source": []
  },
  {
   "cell_type": "code",
   "execution_count": null,
   "metadata": {},
   "outputs": [],
   "source": []
  },
  {
   "cell_type": "code",
   "execution_count": null,
   "metadata": {},
   "outputs": [],
   "source": []
  },
  {
   "cell_type": "code",
   "execution_count": null,
   "metadata": {},
   "outputs": [],
   "source": []
  },
  {
   "cell_type": "code",
   "execution_count": null,
   "metadata": {},
   "outputs": [],
   "source": []
  },
  {
   "cell_type": "code",
   "execution_count": null,
   "metadata": {},
   "outputs": [],
   "source": []
  },
  {
   "cell_type": "code",
   "execution_count": null,
   "metadata": {},
   "outputs": [],
   "source": []
  },
  {
   "cell_type": "code",
   "execution_count": null,
   "metadata": {},
   "outputs": [],
   "source": []
  },
  {
   "cell_type": "code",
   "execution_count": null,
   "metadata": {},
   "outputs": [],
   "source": []
  },
  {
   "cell_type": "code",
   "execution_count": null,
   "metadata": {},
   "outputs": [],
   "source": []
  },
  {
   "cell_type": "code",
   "execution_count": null,
   "metadata": {},
   "outputs": [],
   "source": []
  },
  {
   "cell_type": "code",
   "execution_count": null,
   "metadata": {},
   "outputs": [],
   "source": []
  },
  {
   "cell_type": "code",
   "execution_count": null,
   "metadata": {},
   "outputs": [],
   "source": []
  },
  {
   "cell_type": "code",
   "execution_count": null,
   "metadata": {},
   "outputs": [],
   "source": []
  },
  {
   "cell_type": "code",
   "execution_count": null,
   "metadata": {},
   "outputs": [],
   "source": []
  }
 ],
 "metadata": {
  "kernelspec": {
   "display_name": "Python 3",
   "language": "python",
   "name": "python3"
  },
  "language_info": {
   "codemirror_mode": {
    "name": "ipython",
    "version": 3
   },
   "file_extension": ".py",
   "mimetype": "text/x-python",
   "name": "python",
   "nbconvert_exporter": "python",
   "pygments_lexer": "ipython3",
   "version": "3.8.3"
  }
 },
 "nbformat": 4,
 "nbformat_minor": 4
}
